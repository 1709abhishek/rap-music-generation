{
  "nbformat": 4,
  "nbformat_minor": 0,
  "metadata": {
    "colab": {
      "provenance": [],
      "gpuType": "T4"
    },
    "kernelspec": {
      "name": "python3",
      "display_name": "Python 3"
    },
    "language_info": {
      "name": "python"
    },
    "accelerator": "GPU"
  },
  "cells": [
    {
      "cell_type": "code",
      "source": [
        "from google.colab import drive\n",
        "drive.mount('/content/MyDrive')"
      ],
      "metadata": {
        "colab": {
          "base_uri": "https://localhost:8080/"
        },
        "id": "glReBDNwfyBe",
        "outputId": "03ac9665-a306-4c75-ff9d-5615cb3de531"
      },
      "execution_count": 24,
      "outputs": [
        {
          "output_type": "stream",
          "name": "stdout",
          "text": [
            "Mounted at /content/MyDrive\n"
          ]
        }
      ]
    },
    {
      "cell_type": "code",
      "execution_count": 21,
      "metadata": {
        "colab": {
          "base_uri": "https://localhost:8080/"
        },
        "id": "lTWBNJC-F6Re",
        "outputId": "550edb2e-626c-40b9-e58f-38767a3a7b76"
      },
      "outputs": [
        {
          "output_type": "stream",
          "name": "stdout",
          "text": [
            "Fetching lyrics for Eminem...\n",
            "Fetching lyrics for Pop Smoke...\n",
            "Fetching lyrics for Rihanna...\n",
            "Fetching lyrics for 50 Cent...\n",
            "Fetching lyrics for Drake...\n",
            "Fetching lyrics for Future...\n",
            "Fetching lyrics for Jay Z...\n",
            "Fetching lyrics for Dr. Dre...\n",
            "Fetching lyrics for Travis Scott...\n",
            "Fetching lyrics for Megan Thee Stallion...\n",
            "Fetching lyrics for Cardi B...\n",
            "Fetching lyrics for Kanye West...\n",
            "Fetching lyrics for Nicki Minaj...\n",
            "Fetching lyrics for Lil Wayne...\n"
          ]
        }
      ],
      "source": [
        "import csv\n",
        "import requests\n",
        "\n",
        "# Define your Musixmatch API key\n",
        "MUSIXMATCH_API_KEY = \"7de93c211254f03eae1c3f9f808ea21e\"\n",
        "all_songs = []\n",
        "# Function to search for tracks by artist\n",
        "def search_tracks(artist_name, page_size=50):\n",
        "    url = f\"https://api.musixmatch.com/ws/1.1/track.search\"\n",
        "    params = {\n",
        "        \"apikey\": MUSIXMATCH_API_KEY,\n",
        "        \"q_artist\": artist_name,\n",
        "        \"page_size\": page_size,\n",
        "        \"s_track_rating\": \"desc\"\n",
        "    }\n",
        "    response = requests.get(url, params=params)\n",
        "    data = response.json()\n",
        "    if \"message\" in data and \"body\" in data[\"message\"]:\n",
        "        tracks = data[\"message\"][\"body\"][\"track_list\"]\n",
        "        return [(track[\"track\"][\"track_name\"], track[\"track\"][\"artist_name\"], track[\"track\"][\"track_id\"]) for track in tracks]\n",
        "    else:\n",
        "        print(\"Failed to fetch tracks.\")\n",
        "        return []\n",
        "\n",
        "# Function to get lyrics for a track by track_id\n",
        "def get_lyrics(track_id):\n",
        "    url = f\"https://api.musixmatch.com/ws/1.1/track.lyrics.get\"\n",
        "    params = {\n",
        "        \"apikey\": MUSIXMATCH_API_KEY,\n",
        "        \"track_id\": track_id\n",
        "    }\n",
        "    response = requests.get(url, params=params)\n",
        "    data = response.json()\n",
        "    if \"message\" in data and \"body\" in data[\"message\"]:\n",
        "        lyrics = data[\"message\"][\"body\"][\"lyrics\"][\"lyrics_body\"]\n",
        "        # Remove metadata from the lyrics\n",
        "        lyrics = lyrics.split(\"*******\")[0]\n",
        "        return lyrics.strip()\n",
        "    else:\n",
        "        print(\"Failed to fetch lyrics.\")\n",
        "        return \"\"\n",
        "\n",
        "# Function to get lyrics for 10 songs of an artist\n",
        "def get_artist_lyrics(artist_name):\n",
        "    tracks = search_tracks(artist_name)\n",
        "    songs = []\n",
        "    for track_name, artist, track_id in tracks:\n",
        "        lyrics = get_lyrics(track_id)\n",
        "        if lyrics:\n",
        "            songs.append([track_name, artist, lyrics])\n",
        "    return songs\n",
        "\n",
        "# Function to write lyrics to CSV file\n",
        "def write_to_csv(data, filename):\n",
        "    with open(filename, 'w', newline='', encoding='utf-8') as csvfile:\n",
        "        writer = csv.writer(csvfile)\n",
        "        writer.writerow([\"Title\", \"Artist\", \"Lyrics\"])\n",
        "        writer.writerows(data)\n",
        "\n",
        "# Main function\n",
        "def main():\n",
        "    artists = [\n",
        "      \"Eminem\",\n",
        "      \"Pop Smoke\",\n",
        "      \"Rihanna\",\n",
        "      \"50 Cent\",\n",
        "      \"Drake\",\n",
        "      \"Future\",\n",
        "      \"Jay Z\",\n",
        "      \"Dr. Dre\",\n",
        "      \"Travis Scott\",\n",
        "      \"Megan Thee Stallion\",\n",
        "\n",
        "      \"Cardi B\",\n",
        "      \"Kanye West\",\n",
        "      \"Nicki Minaj\",\n",
        "      \"Lil Wayne\"\n",
        "    ]  # Add more artists as needed\n",
        "\n",
        "\n",
        "    for artist in artists:\n",
        "        print(f\"Fetching lyrics for {artist}...\")\n",
        "        songs = get_artist_lyrics(artist)\n",
        "        all_songs.extend(songs)\n",
        "\n",
        "\n",
        "\n",
        "if __name__ == \"__main__\":\n",
        "    main()"
      ]
    },
    {
      "cell_type": "code",
      "source": [
        "def extend_songs():\n",
        "  artists_extended = [\n",
        "      \"Snoop Dogg\",\n",
        "      \"Lil Baby\",\n",
        "      \"Post Malone\",\n",
        "      \"Chance the Rapper\",\n",
        "      \"Tyler, The Creator\",\n",
        "      \"Juice WRLD\",\n",
        "      \"Young Thug\",\n",
        "      \"DaBaby\",\n",
        "      \"Meek Mill\",\n",
        "      \"G-Eazy\",\n",
        "      \"Logic\"\n",
        "  ]\n",
        "\n",
        "\n",
        "  for artist in artists_extended:\n",
        "      print(f\"Fetching lyrics for {artist}...\")\n",
        "      songs = get_artist_lyrics(artist)\n",
        "      all_songs.extend(songs)\n",
        "extend_songs()"
      ],
      "metadata": {
        "colab": {
          "base_uri": "https://localhost:8080/"
        },
        "id": "zMmdz_9vZiEw",
        "outputId": "eea9c576-56c6-432f-8bbf-a5a2d333aac7"
      },
      "execution_count": 22,
      "outputs": [
        {
          "output_type": "stream",
          "name": "stdout",
          "text": [
            "Fetching lyrics for Snoop Dogg...\n",
            "Fetching lyrics for Lil Baby...\n",
            "Fetching lyrics for Post Malone...\n",
            "Fetching lyrics for Chance the Rapper...\n",
            "Fetching lyrics for Tyler, The Creator...\n",
            "Fetching lyrics for Juice WRLD...\n",
            "Fetching lyrics for Young Thug...\n",
            "Fetching lyrics for DaBaby...\n",
            "Fetching lyrics for Meek Mill...\n",
            "Fetching lyrics for G-Eazy...\n",
            "Fetching lyrics for Logic...\n"
          ]
        }
      ]
    },
    {
      "cell_type": "code",
      "source": [
        "write_to_csv(all_songs, \"/content/MyDrive/MyDrive/NLP Project/lyrics.csv\")"
      ],
      "metadata": {
        "id": "7gAAd5WeaDfL"
      },
      "execution_count": 23,
      "outputs": []
    },
    {
      "cell_type": "code",
      "source": [
        "#drop languages that aren't english\n",
        "!pip install langdetect\n",
        "from langdetect import detect\n",
        "import pandas as pd\n",
        "\n",
        "# Read the CSV file into a DataFrame\n",
        "lyrics_df = pd.read_csv('lyrics.csv')\n",
        "\n",
        "def detect_lyric(x):\n",
        "    try:\n",
        "        return detect(x)\n",
        "    except:\n",
        "        return\n",
        "\n",
        "lyrics_df[\"language\"] = lyrics_df[\"Lyrics\"].apply(detect_lyric)\n",
        "lyrics_df= lyrics_df[lyrics_df.language == \"en\"]"
      ],
      "metadata": {
        "colab": {
          "base_uri": "https://localhost:8080/"
        },
        "id": "fLQuRjF3bbKt",
        "outputId": "0bcca3a5-7105-4d83-ce75-8f889c0e4d3e"
      },
      "execution_count": null,
      "outputs": [
        {
          "output_type": "stream",
          "name": "stdout",
          "text": [
            "Requirement already satisfied: langdetect in /usr/local/lib/python3.10/dist-packages (1.0.9)\n",
            "Requirement already satisfied: six in /usr/local/lib/python3.10/dist-packages (from langdetect) (1.16.0)\n"
          ]
        }
      ]
    },
    {
      "cell_type": "code",
      "source": [
        "lyrics = lyrics_df[\"Lyrics\"].to_list()\n",
        "lyrics = list(map(lambda x: x.replace(\"::\", \":\"),lyrics))\n",
        "verses = [lyric.split(\":\") for lyric in lyrics]\n",
        "\n",
        "import itertools\n",
        "\n",
        "verses = list(itertools.chain(*verses))\n",
        "\n",
        "def create_couplets(verses: list):\n",
        "    couplets = []\n",
        "    for i in range(1,len(verses)):\n",
        "        couplet = verses[i-1] + \"\\n\" + verses[i]\n",
        "        couplets.append(couplet)\n",
        "\n",
        "    return couplets\n",
        "\n",
        "\n",
        "couplets = create_couplets(verses)\n",
        "#display(couplets)\n",
        "\n",
        "couplets_df = pd.DataFrame(couplets, columns=[\"couplets_g\"])\n",
        "print(couplets_df.head())"
      ],
      "metadata": {
        "colab": {
          "base_uri": "https://localhost:8080/"
        },
        "id": "-VfNoNEWbb-P",
        "outputId": "7f59bcfc-ea3d-4cb6-f8dd-a80882178fd9"
      },
      "execution_count": null,
      "outputs": [
        {
          "output_type": "stream",
          "name": "stdout",
          "text": [
            "                                          couplets_g\n",
            "0  Just gonna stand there and watch me burn?\\nWel...\n",
            "1  (Ugh, you're a monster)\\n\\nI can swallow a bot...\n",
            "2  I'm friends with the monster that's under my b...\n",
            "3  Yeah, It's been a ride...\\nI guess I had to go...\n",
            "4  I got a song filled with shit for the strong-w...\n"
          ]
        }
      ]
    }
  ]
}