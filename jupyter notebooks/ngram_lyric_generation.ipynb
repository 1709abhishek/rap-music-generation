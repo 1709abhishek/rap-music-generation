{
  "cells": [
    {
      "cell_type": "code",
      "source": [
        "!pip install eng_to_ipa\n",
        "import eng_to_ipa as ipa\n",
        "\n",
        "def is_vow(character):\n",
        "    '''\n",
        "    Is the given (lowercase) character a vowel or not.\n",
        "    '''\n",
        "    #ipa_vowels = \"iɪeɛæuʊoɔɑəʌ\"\n",
        "    ipa_vowels = \"yøœɶɒɔoʊuʉiɪeɛæaɐɑʌɤɯɨɜ\"\n",
        "    return character in ipa_vowels\n",
        "\n",
        "def is_space(character):\n",
        "    '''\n",
        "    Is the given character a space or newline (other space characters are\n",
        "    cleaned in the preprocessing phase).\n",
        "    '''\n",
        "    return character==' ' or character=='\\n'\n",
        "\n",
        "def get_phonetic_transcription(lyrics):\n",
        "    lines = lyrics.splitlines()\n",
        "    phonetic_lines = [ipa.convert(line) for line in lines]\n",
        "    phonetic = \"\\n\".join(phonetic_lines)\n",
        "\n",
        "    return phonetic"
      ],
      "metadata": {
        "colab": {
          "base_uri": "https://localhost:8080/"
        },
        "id": "kBQGRX6IP4m2",
        "outputId": "09223c17-affe-443c-b88a-07ad2c37e359"
      },
      "id": "kBQGRX6IP4m2",
      "execution_count": 1,
      "outputs": [
        {
          "output_type": "stream",
          "name": "stdout",
          "text": [
            "Collecting eng_to_ipa\n",
            "  Downloading eng_to_ipa-0.0.2.tar.gz (2.8 MB)\n",
            "\u001b[2K     \u001b[90m━━━━━━━━━━━━━━━━━━━━━━━━━━━━━━━━━━━━━━━━\u001b[0m \u001b[32m2.8/2.8 MB\u001b[0m \u001b[31m13.6 MB/s\u001b[0m eta \u001b[36m0:00:00\u001b[0m\n",
            "\u001b[?25h  Preparing metadata (setup.py) ... \u001b[?25l\u001b[?25hdone\n",
            "Building wheels for collected packages: eng_to_ipa\n",
            "  Building wheel for eng_to_ipa (setup.py) ... \u001b[?25l\u001b[?25hdone\n",
            "  Created wheel for eng_to_ipa: filename=eng_to_ipa-0.0.2-py3-none-any.whl size=2822607 sha256=6ec9f628ff2a1ea95569cd112775a27aace77dd6790126d3c068e5e668efe58f\n",
            "  Stored in directory: /root/.cache/pip/wheels/5b/ab/07/fe6722f710d8ef8bd0ccb4eb689ef96f5552f3fc0c80c1aa9c\n",
            "Successfully built eng_to_ipa\n",
            "Installing collected packages: eng_to_ipa\n",
            "Successfully installed eng_to_ipa-0.0.2\n"
          ]
        }
      ]
    },
    {
      "cell_type": "code",
      "source": [
        "import re\n",
        "import numpy as np\n",
        "import phonetics as ph\n",
        "import syllables\n",
        "\n",
        "def syllable_similarity(bar1, bar2):\n",
        "    similarity = abs(syllables.estimate(bar1) - syllables.estimate(bar2))\n",
        "    return similarity\n",
        "\n",
        "def get_syllable_count_difference(lyrics):\n",
        "    lines = lyrics.splitlines()\n",
        "    i = 0\n",
        "    similarity = 0\n",
        "    while i < len(lines)-1:\n",
        "        similarity += syllable_similarity(lines[i], lines[i+1])\n",
        "        i += 2\n",
        "    return similarity/len(lines)\n",
        "\n",
        "def get_rhyme_density(lyrics, lookback=15):\n",
        "    bars = Lyrics(lyrics, lookback)\n",
        "    return bars.avg_rhyme_length\n",
        "\n",
        "def get_longest_rhyme(lyrics, lookback=15):\n",
        "    bars = Lyrics(lyrics, lookback)\n",
        "    return bars.get_longest_rhyme()[0]\n",
        "\n",
        "def get_unique_words(lyrics):\n",
        "    words = lyrics.split()\n",
        "    unique_words = set(words)\n",
        "    return len(unique_words)/len(words)\n",
        "\n",
        "def print_lyrics_stats(lyrics, lookback=15, artist=None, title=None):\n",
        "    bars = Lyrics(lyrics, lookback, artist, title)\n",
        "    print(bars.title)\n",
        "    print('------------------------------------------')\n",
        "    print(\"Average rhyme length: %.3f\\n\" % bars.avg_rhyme_length)\n",
        "    bars.print_rhyme(bars.longest_rhyme)\n",
        "    print(\"Average syllable count difference: %.3f\\n\" % get_syllable_count_difference(lyrics))\n",
        "    print(\"Percentage unique words: %.3f\\n\" % get_unique_words(lyrics))\n",
        "\n",
        "\n",
        "\n",
        "\n",
        "class Lyrics:\n",
        "    '''\n",
        "    This class is used to store and preprocess rap lyrics and calculate\n",
        "    statistics like average rhyme length out of the lyrics.\n",
        "    '''\n",
        "\n",
        "    def __init__(self, text=None, lookback=15, artist=None, title=None):\n",
        "        '''\n",
        "        Lyrics can be read from the file (default) or passed directly\n",
        "        to this constructor.\n",
        "        '''\n",
        "        self.text_raw = None\n",
        "        # How many previous words are checked for a rhyme.\n",
        "        self.lookback = lookback\n",
        "        self.text_raw = text\n",
        "        if artist == None or title == None:\n",
        "            self.title = \"Generated Song\"\n",
        "        else:\n",
        "            self.title = title + \" by \" + artist\n",
        "\n",
        "        if self.text_raw is not None:\n",
        "            cleaning_ok = self.clean_text(self.text_raw)\n",
        "            self.compute_vowel_representation()\n",
        "            self.avg_rhyme_length, self.longest_rhyme = self.rhyme_stats()\n",
        "\n",
        "    def clean_text(self, text):\n",
        "        '''\n",
        "        Preprocess text by removing unwanted characters and duplicate rows.\n",
        "        '''\n",
        "\n",
        "        self.text = text\n",
        "        # If there are more than 2 consecutive newlines, remove some of them\n",
        "        # (just to make the cleaned text look prettier)\n",
        "        self.text = re.sub('\\n\\n+', '\\n\\n', self.text)\n",
        "        # Remove duplicate rows\n",
        "        self.lines = self.text.split('\\n')\n",
        "\n",
        "        uniq_lines = set()\n",
        "        new_text = ''\n",
        "        for l in self.lines:\n",
        "            l = l.strip()\n",
        "            if len(l) > 0 and l in uniq_lines:\n",
        "                continue\n",
        "            # Remove lines that are within brackets/parenthesis\n",
        "            if len(l) >= 2 and ((l[0]=='[' and l[-1]==']') or (l[0]=='(' and l[-1]==')')):\n",
        "                continue\n",
        "            uniq_lines.add(l)\n",
        "            new_text += l + '\\n'\n",
        "\n",
        "        self.text = new_text\n",
        "\n",
        "    def compute_vowel_representation(self):\n",
        "        '''\n",
        "        Compute a representation of the lyrics where only vowels are preserved.\n",
        "        '''\n",
        "        self.vow = [] # Lyrics with all but vowels removed\n",
        "        self.vow_idxs = [] # Indices of the vowels in self.text list\n",
        "        self.word_ends = [] # Indices of the last characters of each word\n",
        "        self.words = [] # List of words in the lyrics\n",
        "        self.line_idxs = []\n",
        "\n",
        "        self.text_orig = self.text\n",
        "        self.text = get_phonetic_transcription(self.text)\n",
        "        self.word_ends_orig = []\n",
        "        self.words_orig = []\n",
        "\n",
        "        prev_space_idx = -1 # Index of the previous space char\n",
        "        line_idx = 0 # Line index of the current character\n",
        "        # Go through the lyrics char by char\n",
        "        for i in range(len(self.text)):\n",
        "            self.line_idxs.append(line_idx)\n",
        "            c = self.text[i]\n",
        "            #c = ph.map_vow(c)\n",
        "            if is_vow(c):\n",
        "                # Ignore double vowels\n",
        "                # (in English this applies probably only to 'aa' as in 'bath'\n",
        "                # which rhymes with 'trap' that has only 'a')\n",
        "                if i > 0 and self.text[i-1] == c:\n",
        "                    # Index of a double vowel points to the latter occurrence\n",
        "                    self.vow_idxs[-1] = i\n",
        "                    continue\n",
        "                # TODO Diftongs should not be split (i.e. \"price\" should\n",
        "                # not rhyme with \"trap kit\"). This has been fixed in BattleBot\n",
        "                self.vow.append(c)\n",
        "                self.vow_idxs.append(i)\n",
        "            elif is_space(c):\n",
        "                if c in '\\n':\n",
        "                    line_idx += 1\n",
        "                elif c in '.!?' and i < len(self.text)-1 and self.text[i+1] != '\\n':\n",
        "                    line_idx += 1\n",
        "                # If previous char was not a space, we've encountered word end\n",
        "                if len(self.vow) > 0 and not is_space(self.text[i-1]):\n",
        "                    # Put together the new word. Potential consonants in the\n",
        "                    # end are ignored\n",
        "                    new_word = self.text[prev_space_idx+1:self.vow_idxs[-1]+1]\n",
        "                    # Check that the new word contains at least one vowel\n",
        "                    no_vowels = True\n",
        "                    for c2 in new_word:\n",
        "                        if is_vow(c2):\n",
        "                            no_vowels = False\n",
        "                            break\n",
        "                    if no_vowels:\n",
        "                        prev_space_idx = i\n",
        "                        continue\n",
        "                    self.word_ends.append(len(self.vow)-1)\n",
        "                    self.words.append(new_word)\n",
        "                prev_space_idx = i\n",
        "\n",
        "        self.lines_orig = self.text_orig.split('\\n')\n",
        "\n",
        "    def rhyme_length(self, wpos2):\n",
        "        '''\n",
        "        Length of rhyme (in vowels). The latter part of the rhyme ends with\n",
        "        word self.words[wpos2].\n",
        "\n",
        "        Input:\n",
        "            wpos2       Word index of the end of the rhyme.\n",
        "        '''\n",
        "        max_length = 0\n",
        "        max_wpos1 = None\n",
        "        wpos1 = max(0,wpos2-self.lookback)\n",
        "        while wpos1 < wpos2:\n",
        "            rl = self.rhyme_length_fixed(wpos1, wpos2)\n",
        "            if rl > max_length:\n",
        "                max_length = rl\n",
        "                max_wpos1 = wpos1\n",
        "            wpos1 += 1\n",
        "        return max_length, max_wpos1\n",
        "\n",
        "    def rhyme_length_fixed(self, wpos1, wpos2):\n",
        "        '''\n",
        "        Length of rhyme (in vowels). The first part of the rhyme ends with\n",
        "        self.words[wpos1] and the latter part with word self.words[wpos2].\n",
        "\n",
        "        Input:\n",
        "            wpos1       Word index of the last word in the first part of the rhyme.\n",
        "            wpos2       Word index of the end of the rhyme.\n",
        "        '''\n",
        "        if wpos1 < 0: # Don't wrap\n",
        "            return 0\n",
        "        elif self.words[wpos1] == self.words[wpos2]:\n",
        "            return 0\n",
        "        # Indices in the vowel list\n",
        "        p1 = self.word_ends[wpos1]\n",
        "        p2 = self.word_ends[wpos2]\n",
        "        l = 0\n",
        "        while self.vow[p1-l] == self.vow[p2-l]:\n",
        "            # Make sure that exactly same words are not used\n",
        "            if wpos1 > 0 and p1-l <= self.word_ends[wpos1-1] and wpos2 > 0 and p2-l <= self.word_ends[wpos2-1]:\n",
        "                # Get the first and last character indices of the words surrounding the vowels at p1-l and p2-l\n",
        "                prev_s1 = self.vow_idxs[p1-l]\n",
        "                while prev_s1 > 0 and not is_space(self.text[prev_s1-1]):\n",
        "                    prev_s1 -= 1\n",
        "                prev_s2 = self.vow_idxs[p2-l]\n",
        "                while prev_s2 > 0 and not is_space(self.text[prev_s2-1]):\n",
        "                    prev_s2 -= 1\n",
        "                next_s1 = self.vow_idxs[p1-l]\n",
        "                while next_s1 < len(self.text)-1 and not is_space(self.text[next_s1+1]):\n",
        "                    next_s1 += 1\n",
        "                next_s2 = self.vow_idxs[p2-l]\n",
        "                while next_s2 < len(self.text)-1 and not is_space(self.text[next_s2+1]):\n",
        "                    next_s2 += 1\n",
        "                if next_s1-prev_s1 == next_s2-prev_s2 and self.text[prev_s1:next_s1+1] ==  self.text[prev_s2:next_s2+1]:\n",
        "                    break\n",
        "\n",
        "            l += 1\n",
        "            if p1-l < 0 or p2-l <= p1:\n",
        "                break\n",
        "        # Ignore rhymes with length 1\n",
        "        if l == 1:\n",
        "            l = 0\n",
        "        return l\n",
        "\n",
        "    def rhyme_stats(self):\n",
        "        '''\n",
        "        Compute the average rhyme length of the song and the longest rhyme.\n",
        "\n",
        "        Output:\n",
        "            Average rhyme length (float)\n",
        "            Longest rhyme which is a 3-tuple with:\n",
        "                (length, word index of the first part of the rhyme,\n",
        "                         word index of the latter part of the rhyme)\n",
        "        '''\n",
        "        # Rhyme length of each word\n",
        "        rls = []\n",
        "        # Keep track of the longest rhyme\n",
        "        max_rhyme = (0,None,None)\n",
        "        for wpos2 in range(1,len(self.word_ends)):\n",
        "            (rl, wpos1) = self.rhyme_length(wpos2)\n",
        "            rls.append(rl)\n",
        "            if rl > max_rhyme[0]:\n",
        "                max_rhyme = (rl, wpos1, wpos2)\n",
        "        rls = np.array(rls)\n",
        "        # Average rhyme length of the song\n",
        "        if len(rls) > 0:\n",
        "            avg_rl = np.mean(rls)\n",
        "        else:\n",
        "            avg_rl = 0\n",
        "        return avg_rl, max_rhyme\n",
        "\n",
        "    def get_avg_rhyme_length(self):\n",
        "        return self.avg_rhyme_length\n",
        "\n",
        "    def print_song_stats(self):\n",
        "        print('------------------------------------------')\n",
        "        print(\"Avg rhyme length: %.3f\\n\" % self.avg_rhyme_length)\n",
        "\n",
        "        self.print_rhyme(self.longest_rhyme)\n",
        "\n",
        "\n",
        "    def print_rhyme(self, rhyme_tuple):\n",
        "        print(self.get_rhyme_str(rhyme_tuple))\n",
        "\n",
        "    def get_rhyme_str(self, rhyme_tuple):\n",
        "        '''\n",
        "        Construct a string of a given rhyme tuple.\n",
        "        '''\n",
        "        ret = ''\n",
        "        rl, wpos1, wpos2 = rhyme_tuple\n",
        "        if wpos1 is None or wpos2 is None:\n",
        "            return ''\n",
        "        p2 = self.vow_idxs[self.word_ends[wpos2]]\n",
        "        p2_orig = p2\n",
        "        # Find the ending of the last word\n",
        "        while not is_space(self.text[p2]):\n",
        "            p2 += 1\n",
        "        p0 = self.vow_idxs[self.word_ends[wpos1]-rl]\n",
        "        p0_orig = p0\n",
        "        # Find the beginning of the line\n",
        "        while self.text[p0] != '\\n' and p0 > 0:\n",
        "            p0 -= 1\n",
        "\n",
        "        cap_line = ''\n",
        "        rw1, rw2 = self.get_rhyming_vowels(rhyme_tuple)\n",
        "        for i in range(p0,p2+1):\n",
        "            if i == min(rw1) or i == min(rw2):\n",
        "                cap_line += ' | ' + self.text[i]\n",
        "            elif i == max(rw1) or i == max(rw2):\n",
        "                cap_line += self.text[i] + '|'\n",
        "            else:\n",
        "                cap_line += self.text[i]\n",
        "        ret += \"Longest rhyme (l=%d): %s\\n\" % (rl, cap_line)\n",
        "        # Get the corresponding lines from the original lyrics\n",
        "        line_beg = self.line_idxs[p0]\n",
        "        line_end = self.line_idxs[p2]\n",
        "        for i in range(line_beg, line_end+1):\n",
        "            if i < len(self.lines_orig):\n",
        "                ret += self.lines_orig[i] + '\\n'\n",
        "        return ret\n",
        "\n",
        "    def get_longest_rhyme(self):\n",
        "        rhyme_str = self.get_rhyme_str(self.longest_rhyme)\n",
        "        return self.longest_rhyme[0], rhyme_str\n",
        "\n",
        "    def get_rhyming_vowels(self, rhyme_tuple):\n",
        "        '''\n",
        "        Return the indices of the rhyming vowels of the longest rhyme.\n",
        "\n",
        "        Output:\n",
        "            Tuple with the indices of the first part and the second part of\n",
        "            the rhyme separately.\n",
        "        '''\n",
        "        rl, wpos1, wpos2 = rhyme_tuple\n",
        "        if wpos1 is None or wpos2 is None:\n",
        "            return ([-1],[-1])\n",
        "\n",
        "        # The first part of the rhyme\n",
        "        rhyme_idxs1 = [] # Indices of the rhyming vowels\n",
        "        n_caps = 0\n",
        "        p = self.vow_idxs[self.word_ends[wpos1]]\n",
        "        while n_caps < rl:\n",
        "            if is_vow(self.text[p]):\n",
        "                rhyme_idxs1.append(p)\n",
        "                # Increase the counter only if the vowel is not a double vowel\n",
        "                if self.text[p] != self.text[p+1]:\n",
        "                    n_caps += 1\n",
        "            p -= 1\n",
        "\n",
        "        # The second part of the rhyme\n",
        "        rhyme_idxs2 = [] # Indices of the rhyming vowels\n",
        "        n_caps = 0\n",
        "        p = self.vow_idxs[self.word_ends[wpos2]]\n",
        "        p_last = p\n",
        "        while n_caps < rl:\n",
        "            if is_vow(self.text[p]):\n",
        "                rhyme_idxs2.append(p)\n",
        "                # Increase the counter only if the vowel is not a double vowel.\n",
        "                # The last vowel must be always counted.\n",
        "                if p == p_last or self.text[p] != self.text[p+1]:\n",
        "                    n_caps += 1\n",
        "            p -= 1\n",
        "\n",
        "        return (rhyme_idxs1, rhyme_idxs2)"
      ],
      "metadata": {
        "id": "xiuAJUUXNCvR"
      },
      "id": "xiuAJUUXNCvR",
      "execution_count": 24,
      "outputs": []
    },
    {
      "cell_type": "code",
      "execution_count": 4,
      "id": "ffa1950e",
      "metadata": {
        "id": "ffa1950e"
      },
      "outputs": [],
      "source": [
        "\n",
        "import numpy as np\n",
        "import re\n",
        "import pandas as pd\n",
        "import nltk\n",
        "from nltk.tokenize import word_tokenize\n",
        "from nltk.util import bigrams, ngrams, everygrams\n",
        "from nltk.lm.preprocessing import padded_everygram_pipeline, pad_both_ends\n",
        "from nltk.lm import MLE, KneserNeyInterpolated, Lidstone, Laplace, AbsoluteDiscountingInterpolated\n"
      ]
    },
    {
      "cell_type": "code",
      "execution_count": 5,
      "id": "e3e2490e",
      "metadata": {
        "colab": {
          "base_uri": "https://localhost:8080/"
        },
        "id": "e3e2490e",
        "outputId": "b3f467cf-7baf-454c-edf3-4f201e6bbcec"
      },
      "outputs": [
        {
          "output_type": "stream",
          "name": "stderr",
          "text": [
            "[nltk_data] Downloading package punkt to /root/nltk_data...\n",
            "[nltk_data]   Unzipping tokenizers/punkt.zip.\n"
          ]
        },
        {
          "output_type": "execute_result",
          "data": {
            "text/plain": [
              "True"
            ]
          },
          "metadata": {},
          "execution_count": 5
        }
      ],
      "source": [
        "nltk.download('punkt')"
      ]
    },
    {
      "cell_type": "code",
      "execution_count": 7,
      "id": "707c77b4",
      "metadata": {
        "id": "707c77b4"
      },
      "outputs": [],
      "source": [
        "train_df = pd.read_csv('train.csv')\n",
        "test_df = pd.read_csv('test.csv')\n",
        "train_df\n",
        "train_df.rename({\"Lyrics\": \"lyric\", \"Title\": \"song\", \"Artist\": \"artist\"}, axis=1, inplace=True)\n",
        "test_df.rename({\"Lyrics\": \"lyric\", \"Title\": \"song\", \"Artist\": \"artist\"}, axis=1, inplace=True)"
      ]
    },
    {
      "cell_type": "markdown",
      "id": "9c65e083",
      "metadata": {
        "id": "9c65e083"
      },
      "source": [
        "## Tokenization"
      ]
    },
    {
      "cell_type": "markdown",
      "id": "e08ea2df",
      "metadata": {
        "id": "e08ea2df"
      },
      "source": [
        "Default word tokenizer removes new line symbols."
      ]
    },
    {
      "cell_type": "code",
      "execution_count": 4,
      "id": "3646725a",
      "metadata": {
        "id": "3646725a"
      },
      "outputs": [],
      "source": [
        "# # Test\n",
        "# lyric = [word_tokenize(line) + ['\\n'] for line in train['lyric'][0].split('\\n')]\n",
        "# flat_list = list(itertools.chain(*lyric))[:-1]  # remove last new line symbol"
      ]
    },
    {
      "cell_type": "code",
      "execution_count": 8,
      "id": "9ce01738",
      "metadata": {
        "id": "9ce01738"
      },
      "outputs": [],
      "source": [
        "def tokenize(dataset):\n",
        "    return [\n",
        "        nltk.flatten(([\n",
        "            word_tokenize(line) + ['\\n']\n",
        "            for line in lyric.split('\\n')\n",
        "        ]))[:-1]\n",
        "        for lyric in list(dataset['lyric'])\n",
        "        if not isinstance(lyric, float)  # remove nan values\n",
        "    ]\n",
        "\n",
        "tokenized_train = tokenize(train_df)\n",
        "tokenized_test = tokenize(test_df)"
      ]
    },
    {
      "cell_type": "markdown",
      "id": "9f939fbc",
      "metadata": {
        "id": "9f939fbc"
      },
      "source": [
        "## Setup and stats"
      ]
    },
    {
      "cell_type": "code",
      "execution_count": 9,
      "id": "c758b751",
      "metadata": {
        "id": "c758b751"
      },
      "outputs": [],
      "source": [
        "N = 3"
      ]
    },
    {
      "cell_type": "code",
      "execution_count": 10,
      "id": "c9314dc9",
      "metadata": {
        "id": "c9314dc9"
      },
      "outputs": [],
      "source": [
        "def generate_ngrams(dataset, every=False):\n",
        "    if every:\n",
        "        return [list(everygrams(pad_both_ends(example, n=N), max_len=N)) for example in dataset]\n",
        "    else:\n",
        "        return [list(ngrams(pad_both_ends(example, n=N), n=N)) for example in dataset]\n",
        "\n",
        "train_ngrams = generate_ngrams(tokenized_train, every=True)\n",
        "test_ngrams = generate_ngrams(tokenized_test)"
      ]
    },
    {
      "cell_type": "code",
      "execution_count": 11,
      "id": "2f282f00",
      "metadata": {
        "id": "2f282f00"
      },
      "outputs": [],
      "source": [
        "def generate_vocabulary(dataset):\n",
        "    return list(nltk.lm.preprocessing.flatten(pad_both_ends(example, n=N) for example in dataset))\n",
        "\n",
        "train_vocabulary = generate_vocabulary(tokenized_train)\n",
        "test_vocabulary = generate_vocabulary(tokenized_test)"
      ]
    },
    {
      "cell_type": "code",
      "execution_count": 12,
      "id": "dea2f950",
      "metadata": {
        "colab": {
          "base_uri": "https://localhost:8080/"
        },
        "id": "dea2f950",
        "outputId": "3e9257bb-3c32-48fa-fbc5-32403af557b9"
      },
      "outputs": [
        {
          "output_type": "stream",
          "name": "stdout",
          "text": [
            "Training set contains 6757 distinct tokens.\n",
            "Test set contains 3578 distinct tokens.\n",
            "Test set has 1148 tokens not in train test.\n"
          ]
        }
      ],
      "source": [
        "print(\"Training set contains\", len(set(train_vocabulary)), \"distinct tokens.\")\n",
        "print(\"Test set contains\", len(set(test_vocabulary)), \"distinct tokens.\")\n",
        "print(\"Test set has\", len(set(test_vocabulary) - set(train_vocabulary)), \"tokens not in train test.\")"
      ]
    },
    {
      "cell_type": "code",
      "execution_count": 13,
      "id": "21a7f995",
      "metadata": {
        "colab": {
          "base_uri": "https://localhost:8080/"
        },
        "id": "21a7f995",
        "outputId": "acc28abc-1780-4d6f-feb3-ae3b6b0c260b"
      },
      "outputs": [
        {
          "output_type": "execute_result",
          "data": {
            "text/plain": [
              "[('\\n', 8628),\n",
              " (',', 5959),\n",
              " ('I', 3145),\n",
              " ('the', 2011),\n",
              " (\"'\", 1494),\n",
              " ('you', 1471),\n",
              " ('(', 1468),\n",
              " (')', 1468),\n",
              " ('a', 1204),\n",
              " ('it', 1164)]"
            ]
          },
          "metadata": {},
          "execution_count": 13
        }
      ],
      "source": [
        "from collections import Counter\n",
        "Counter(train_vocabulary).most_common(10)"
      ]
    },
    {
      "cell_type": "markdown",
      "id": "10a97e08",
      "metadata": {
        "id": "10a97e08"
      },
      "source": [
        "## Training"
      ]
    },
    {
      "cell_type": "code",
      "execution_count": 14,
      "id": "ddce41ef",
      "metadata": {
        "id": "ddce41ef"
      },
      "outputs": [],
      "source": [
        "lm = Lidstone(1e-4, N)\n",
        "lm.fit(train_ngrams, train_vocabulary)"
      ]
    },
    {
      "cell_type": "code",
      "execution_count": 15,
      "id": "675f3de9",
      "metadata": {
        "colab": {
          "base_uri": "https://localhost:8080/"
        },
        "id": "675f3de9",
        "outputId": "c83f1911-8836-4d54-ab5d-bb3d84db71d2"
      },
      "outputs": [
        {
          "output_type": "execute_result",
          "data": {
            "text/plain": [
              "6758"
            ]
          },
          "metadata": {},
          "execution_count": 15
        }
      ],
      "source": [
        "len(lm.vocab)"
      ]
    },
    {
      "cell_type": "markdown",
      "id": "cda5d54f",
      "metadata": {
        "id": "cda5d54f"
      },
      "source": [
        "## Quantitative evaluation"
      ]
    },
    {
      "cell_type": "markdown",
      "id": "34aa3e53",
      "metadata": {
        "id": "34aa3e53"
      },
      "source": [
        "### Perplexity (PPL)"
      ]
    },
    {
      "cell_type": "code",
      "execution_count": 16,
      "id": "7d344b69",
      "metadata": {
        "colab": {
          "base_uri": "https://localhost:8080/"
        },
        "id": "7d344b69",
        "outputId": "99ef1f1e-e361-45c3-b21a-e7f2575a832b"
      },
      "outputs": [
        {
          "output_type": "execute_result",
          "data": {
            "text/plain": [
              "34.729352351396486"
            ]
          },
          "metadata": {},
          "execution_count": 16
        }
      ],
      "source": [
        "lm.perplexity(nltk.lm.preprocessing.flatten(train_ngrams))"
      ]
    },
    {
      "cell_type": "code",
      "execution_count": 17,
      "id": "792a8e64",
      "metadata": {
        "colab": {
          "base_uri": "https://localhost:8080/"
        },
        "id": "792a8e64",
        "outputId": "5b4335e8-df1e-440e-a0c4-60930d92d106"
      },
      "outputs": [
        {
          "output_type": "execute_result",
          "data": {
            "text/plain": [
              "743.7346299905059"
            ]
          },
          "metadata": {},
          "execution_count": 17
        }
      ],
      "source": [
        "lm.perplexity(nltk.lm.preprocessing.flatten(test_ngrams))"
      ]
    },
    {
      "cell_type": "markdown",
      "id": "da4544cf",
      "metadata": {
        "id": "da4544cf"
      },
      "source": [
        "### Generate songs after first line"
      ]
    },
    {
      "cell_type": "code",
      "execution_count": 18,
      "id": "04fd0475",
      "metadata": {
        "colab": {
          "base_uri": "https://localhost:8080/",
          "height": 107
        },
        "id": "04fd0475",
        "outputId": "f206fc21-f073-4962-ecab-5da449ed6099"
      },
      "outputs": [
        {
          "output_type": "execute_result",
          "data": {
            "text/plain": [
              "\"\\n And I 'll take , I 'm about\\nHmm-hmm-hmm , hmm-hmm\\nPalm to palm\\nWe keep it like that , and like that , say my name , I ai n't your cup 's full of trap niggas ( Baow )\\nCan I show you how I feel bad for you , yeah , yeah\\nYou ai n't strong enough to take the lead\\nI 'm in that sunshine state with a Speed Stick\\n... </s> </s> </s> </s> </s> </s> </s> </s> </s> </s> </s> </s> </s> </s> </s> </s> </s>\""
            ],
            "application/vnd.google.colaboratory.intrinsic+json": {
              "type": "string"
            }
          },
          "metadata": {},
          "execution_count": 18
        }
      ],
      "source": [
        "re.sub(r'[ ]+\\n[ ]+', r'\\n', ' '.join(lm.generate(100, text_seed=['I', 'found'])))"
      ]
    },
    {
      "cell_type": "code",
      "execution_count": 19,
      "id": "df98d968",
      "metadata": {
        "colab": {
          "base_uri": "https://localhost:8080/"
        },
        "id": "df98d968",
        "outputId": "52466f26-62bc-47a2-96e0-55d347f90628"
      },
      "outputs": [
        {
          "output_type": "execute_result",
          "data": {
            "text/plain": [
              "110"
            ]
          },
          "metadata": {},
          "execution_count": 19
        }
      ],
      "source": [
        "first_lines = [song[:song.index('\\n')+1] for song in tokenized_test if '\\n' in song]\n",
        "len(first_lines)"
      ]
    },
    {
      "cell_type": "code",
      "execution_count": 20,
      "id": "c4dde3e9",
      "metadata": {
        "colab": {
          "base_uri": "https://localhost:8080/"
        },
        "id": "c4dde3e9",
        "outputId": "f9bb3faa-d0e9-4641-e837-f77ae039c837"
      },
      "outputs": [
        {
          "output_type": "execute_result",
          "data": {
            "text/plain": [
              "['(', 'Ugh', ',', 'you', \"'re\", 'a', 'monster', ')', '\\n']"
            ]
          },
          "metadata": {},
          "execution_count": 20
        }
      ],
      "source": [
        "first_lines[0]"
      ]
    },
    {
      "cell_type": "markdown",
      "id": "a62cce3f",
      "metadata": {
        "id": "a62cce3f"
      },
      "source": [
        "Generate all continuations of rap songs"
      ]
    },
    {
      "cell_type": "code",
      "execution_count": 21,
      "id": "7beaf3eb",
      "metadata": {
        "id": "7beaf3eb"
      },
      "outputs": [],
      "source": [
        "results = []\n",
        "for first_line in first_lines:\n",
        "    result = ' '.join(first_line)[:-2] + '\\n'\n",
        "    result += re.sub(r'[ ]+\\n[ ]+', r'\\n', ' '.join(lm.generate(100, text_seed=first_line, random_seed=0)))\n",
        "    result = re.sub(' </s>.*', '', result)\n",
        "    results.append(result)"
      ]
    },
    {
      "cell_type": "code",
      "execution_count": 65,
      "id": "2fa7e08f",
      "metadata": {
        "colab": {
          "base_uri": "https://localhost:8080/"
        },
        "id": "2fa7e08f",
        "outputId": "fd6eceeb-aaaa-46d7-be24-81c346342e6c"
      },
      "outputs": [
        {
          "output_type": "stream",
          "name": "stdout",
          "text": [
            "Traphouse Mob\n",
            "Yoz , what , what I pay for hoes ( yeah )\n",
            "Shawty go jogging every morning )\n",
            "Bum bum be-dum bum ( I ca n't stress about no bitch 'cause I know\n",
            "Ooh , that I 'd like to fuck I look around , niggas spinnin '\n",
            "\n",
            " Guess we all Pisces\n",
            "Your last one standin ' in my hallways , I get down\n",
            "All the ladies , they love smoking and love drinking , some love deep inside of the storm when it feels like it when you turn the music up\n"
          ]
        }
      ],
      "source": [
        "print(results[8])"
      ]
    },
    {
      "cell_type": "markdown",
      "id": "df8f3f1c",
      "metadata": {
        "id": "df8f3f1c"
      },
      "source": [
        "### Rhyme Density (RD)"
      ]
    },
    {
      "cell_type": "code",
      "execution_count": 25,
      "id": "fb9d4cbc",
      "metadata": {
        "id": "fb9d4cbc"
      },
      "outputs": [],
      "source": [
        "\n",
        "def get_rhyme_density(lyrics, lookback=15):\n",
        "    bars = Lyrics(lyrics, lookback)\n",
        "    return bars.avg_rhyme_length\n",
        "results_rd = np.array([get_rhyme_density(song) for song in results])"
      ]
    },
    {
      "cell_type": "code",
      "execution_count": 26,
      "id": "6f82a04c",
      "metadata": {
        "colab": {
          "base_uri": "https://localhost:8080/"
        },
        "id": "6f82a04c",
        "outputId": "2655a206-39c5-4c91-8bee-11fc68252e90"
      },
      "outputs": [
        {
          "output_type": "execute_result",
          "data": {
            "text/plain": [
              "0.66"
            ]
          },
          "metadata": {},
          "execution_count": 26
        }
      ],
      "source": [
        "round(np.mean(results_rd),2)"
      ]
    },
    {
      "cell_type": "code",
      "execution_count": 27,
      "id": "76c9012c",
      "metadata": {
        "colab": {
          "base_uri": "https://localhost:8080/"
        },
        "id": "76c9012c",
        "outputId": "1421b4c6-7a27-4f96-aa7f-d50ad7cd01e4"
      },
      "outputs": [
        {
          "output_type": "execute_result",
          "data": {
            "text/plain": [
              "0.21"
            ]
          },
          "metadata": {},
          "execution_count": 27
        }
      ],
      "source": [
        "round(np.std(results_rd),2)"
      ]
    },
    {
      "cell_type": "markdown",
      "id": "f3b6d1c4",
      "metadata": {
        "id": "f3b6d1c4"
      },
      "source": [
        "### Syllable Count Difference (SCD)"
      ]
    },
    {
      "cell_type": "code",
      "execution_count": 29,
      "id": "24132960",
      "metadata": {
        "id": "24132960"
      },
      "outputs": [],
      "source": [
        "results_scd = np.array([get_syllable_count_difference(song) for song in results])"
      ]
    },
    {
      "cell_type": "code",
      "execution_count": 30,
      "id": "588aa96c",
      "metadata": {
        "colab": {
          "base_uri": "https://localhost:8080/"
        },
        "id": "588aa96c",
        "outputId": "4740a1be-d655-450c-eaaa-3354185a949d"
      },
      "outputs": [
        {
          "output_type": "execute_result",
          "data": {
            "text/plain": [
              "5.16"
            ]
          },
          "metadata": {},
          "execution_count": 30
        }
      ],
      "source": [
        "round(np.mean(results_scd),2)"
      ]
    },
    {
      "cell_type": "code",
      "execution_count": 31,
      "id": "0c1937a1",
      "metadata": {
        "colab": {
          "base_uri": "https://localhost:8080/"
        },
        "id": "0c1937a1",
        "outputId": "f9b5448c-3f41-4d57-b48e-d8a96ee48657"
      },
      "outputs": [
        {
          "output_type": "execute_result",
          "data": {
            "text/plain": [
              "2.62"
            ]
          },
          "metadata": {},
          "execution_count": 31
        }
      ],
      "source": [
        "round(np.std(results_scd),2)"
      ]
    },
    {
      "cell_type": "markdown",
      "id": "12fb6bbd",
      "metadata": {
        "id": "12fb6bbd"
      },
      "source": [
        "### Longest Rhyme (LR)"
      ]
    },
    {
      "cell_type": "code",
      "execution_count": 33,
      "id": "ee6a1238",
      "metadata": {
        "id": "ee6a1238"
      },
      "outputs": [],
      "source": [
        "results_lr = np.array([get_longest_rhyme(song) for song in results])"
      ]
    },
    {
      "cell_type": "code",
      "execution_count": 60,
      "id": "2b9519f0",
      "metadata": {
        "colab": {
          "base_uri": "https://localhost:8080/"
        },
        "id": "2b9519f0",
        "outputId": "f194ff1b-4289-45a1-906f-37279110e630"
      },
      "outputs": [
        {
          "output_type": "stream",
          "name": "stdout",
          "text": [
            "3.61 0.84\n"
          ]
        }
      ],
      "source": [
        "print(round(np.mean(results_lr),2), round(np.std(results_lr),2))"
      ]
    },
    {
      "cell_type": "markdown",
      "id": "23e4a359",
      "metadata": {
        "id": "23e4a359"
      },
      "source": [
        "### Unique Words (UW)"
      ]
    },
    {
      "cell_type": "code",
      "execution_count": 61,
      "id": "6f36df49",
      "metadata": {
        "id": "6f36df49"
      },
      "outputs": [],
      "source": [
        "results_uw = np.array([get_unique_words(song) for song in results])"
      ]
    },
    {
      "cell_type": "code",
      "execution_count": 62,
      "id": "0114cf14",
      "metadata": {
        "colab": {
          "base_uri": "https://localhost:8080/"
        },
        "id": "0114cf14",
        "outputId": "06720c6a-1e7c-43ed-8591-cab321b6e6dd"
      },
      "outputs": [
        {
          "output_type": "stream",
          "name": "stdout",
          "text": [
            "0.74 0.07\n"
          ]
        }
      ],
      "source": [
        "print(round(np.mean(results_uw),2), round(np.std(results_uw),2))"
      ]
    },
    {
      "cell_type": "markdown",
      "id": "152996ff",
      "metadata": {
        "id": "152996ff"
      },
      "source": [
        "### Get those statistics for training and test sets"
      ]
    },
    {
      "cell_type": "markdown",
      "id": "568e0518",
      "metadata": {
        "id": "568e0518"
      },
      "source": [
        "#### Train"
      ]
    },
    {
      "cell_type": "code",
      "execution_count": 35,
      "id": "cbdd8a83",
      "metadata": {
        "id": "cbdd8a83"
      },
      "outputs": [],
      "source": [
        "train_rd = np.array([\n",
        "    get_rhyme_density(song)\n",
        "    for song in train_df['lyric']\n",
        "    if isinstance(song, str) and '\\n' in song])"
      ]
    },
    {
      "cell_type": "code",
      "execution_count": 36,
      "id": "f07ecf8f",
      "metadata": {
        "colab": {
          "base_uri": "https://localhost:8080/"
        },
        "id": "f07ecf8f",
        "outputId": "8f92075d-1a6c-4660-a20c-f4b22706087f"
      },
      "outputs": [
        {
          "output_type": "execute_result",
          "data": {
            "text/plain": [
              "0.83"
            ]
          },
          "metadata": {},
          "execution_count": 36
        }
      ],
      "source": [
        "round(np.mean(train_rd),2)"
      ]
    },
    {
      "cell_type": "code",
      "execution_count": 37,
      "id": "6a6b4dc9",
      "metadata": {
        "colab": {
          "base_uri": "https://localhost:8080/"
        },
        "id": "6a6b4dc9",
        "outputId": "950ac9eb-d4b9-4e59-fed8-09f02f8f7c35"
      },
      "outputs": [
        {
          "output_type": "execute_result",
          "data": {
            "text/plain": [
              "0.26"
            ]
          },
          "metadata": {},
          "execution_count": 37
        }
      ],
      "source": [
        "round(np.std(train_rd),2)"
      ]
    },
    {
      "cell_type": "code",
      "execution_count": 38,
      "id": "bbd0807d",
      "metadata": {
        "id": "bbd0807d"
      },
      "outputs": [],
      "source": [
        "train_scd = np.array([\n",
        "    get_syllable_count_difference(song)\n",
        "    for song in train_df['lyric']\n",
        "    if isinstance(song, str) and '\\n' in song])"
      ]
    },
    {
      "cell_type": "code",
      "execution_count": 39,
      "id": "1ab68d7f",
      "metadata": {
        "colab": {
          "base_uri": "https://localhost:8080/"
        },
        "id": "1ab68d7f",
        "outputId": "74ec800a-85c9-490b-e236-6c6ba40cbaea"
      },
      "outputs": [
        {
          "output_type": "execute_result",
          "data": {
            "text/plain": [
              "2.28"
            ]
          },
          "metadata": {},
          "execution_count": 39
        }
      ],
      "source": [
        "round(np.mean(train_scd),2)"
      ]
    },
    {
      "cell_type": "code",
      "execution_count": 40,
      "id": "70ef7998",
      "metadata": {
        "colab": {
          "base_uri": "https://localhost:8080/"
        },
        "id": "70ef7998",
        "outputId": "4fa14871-082a-4f93-d77d-8861feb0e158"
      },
      "outputs": [
        {
          "output_type": "execute_result",
          "data": {
            "text/plain": [
              "0.66"
            ]
          },
          "metadata": {},
          "execution_count": 40
        }
      ],
      "source": [
        "round(np.std(train_scd),2)"
      ]
    },
    {
      "cell_type": "code",
      "execution_count": 41,
      "id": "313f9d05",
      "metadata": {
        "id": "313f9d05"
      },
      "outputs": [],
      "source": [
        "train_lr = np.array([\n",
        "    get_longest_rhyme(song)\n",
        "    for song in train_df['lyric']\n",
        "    if isinstance(song, str) and '\\n' in song])"
      ]
    },
    {
      "cell_type": "code",
      "execution_count": 42,
      "id": "f0e7579a",
      "metadata": {
        "colab": {
          "base_uri": "https://localhost:8080/"
        },
        "id": "f0e7579a",
        "outputId": "c2d44856-e07f-4fad-adbf-a1808bb6d8db"
      },
      "outputs": [
        {
          "output_type": "stream",
          "name": "stdout",
          "text": [
            "4.62 1.23\n"
          ]
        }
      ],
      "source": [
        "print(round(np.mean(train_lr),2), round(np.std(train_lr),2))"
      ]
    },
    {
      "cell_type": "code",
      "execution_count": 43,
      "id": "b7681a32",
      "metadata": {
        "id": "b7681a32"
      },
      "outputs": [],
      "source": [
        "train_uw = np.array([\n",
        "    get_unique_words(song)\n",
        "    for song in train_df['lyric']\n",
        "    if isinstance(song, str) and '\\n' in song])"
      ]
    },
    {
      "cell_type": "code",
      "execution_count": 44,
      "id": "180cf6a3",
      "metadata": {
        "colab": {
          "base_uri": "https://localhost:8080/"
        },
        "id": "180cf6a3",
        "outputId": "4bbfbf8c-4841-4a19-fe76-4390ac2bdf3f"
      },
      "outputs": [
        {
          "output_type": "stream",
          "name": "stdout",
          "text": [
            "0.61 0.1\n"
          ]
        }
      ],
      "source": [
        "print(round(np.mean(train_uw),2), round(np.std(train_uw),2))"
      ]
    },
    {
      "cell_type": "markdown",
      "id": "b80414d3",
      "metadata": {
        "id": "b80414d3"
      },
      "source": [
        "#### Test"
      ]
    },
    {
      "cell_type": "code",
      "execution_count": 45,
      "id": "7738648d",
      "metadata": {
        "id": "7738648d"
      },
      "outputs": [],
      "source": [
        "test_rd = np.array([\n",
        "    get_rhyme_density(song)\n",
        "    for song in test_df['lyric']\n",
        "    if isinstance(song, str) and '\\n' in song])"
      ]
    },
    {
      "cell_type": "code",
      "execution_count": 46,
      "id": "46d32630",
      "metadata": {
        "colab": {
          "base_uri": "https://localhost:8080/"
        },
        "id": "46d32630",
        "outputId": "b75137fb-474d-4916-fca4-f9cccd8080fd"
      },
      "outputs": [
        {
          "output_type": "execute_result",
          "data": {
            "text/plain": [
              "0.8"
            ]
          },
          "metadata": {},
          "execution_count": 46
        }
      ],
      "source": [
        "round(np.mean(test_rd),2)"
      ]
    },
    {
      "cell_type": "code",
      "execution_count": 47,
      "id": "93fb44de",
      "metadata": {
        "colab": {
          "base_uri": "https://localhost:8080/"
        },
        "id": "93fb44de",
        "outputId": "e0f5d029-b46f-4726-e265-9302ceb75222"
      },
      "outputs": [
        {
          "output_type": "execute_result",
          "data": {
            "text/plain": [
              "0.23"
            ]
          },
          "metadata": {},
          "execution_count": 47
        }
      ],
      "source": [
        "round(np.std(test_rd),2)"
      ]
    },
    {
      "cell_type": "code",
      "execution_count": 48,
      "id": "e150fed9",
      "metadata": {
        "id": "e150fed9"
      },
      "outputs": [],
      "source": [
        "test_scd = np.array([\n",
        "    get_syllable_count_difference(song)\n",
        "    for song in test_df['lyric']\n",
        "    if isinstance(song, str) and '\\n' in song])"
      ]
    },
    {
      "cell_type": "code",
      "execution_count": 49,
      "id": "62ab4f99",
      "metadata": {
        "colab": {
          "base_uri": "https://localhost:8080/"
        },
        "id": "62ab4f99",
        "outputId": "d5ae9e01-2da5-45ac-8d0d-f4a8d3dfe8cc"
      },
      "outputs": [
        {
          "output_type": "execute_result",
          "data": {
            "text/plain": [
              "2.21"
            ]
          },
          "metadata": {},
          "execution_count": 49
        }
      ],
      "source": [
        "round(np.mean(test_scd),2)"
      ]
    },
    {
      "cell_type": "code",
      "execution_count": 50,
      "id": "68a4d20c",
      "metadata": {
        "colab": {
          "base_uri": "https://localhost:8080/"
        },
        "id": "68a4d20c",
        "outputId": "cbfd2ff4-dbc1-4b88-b03b-037bba1ac164"
      },
      "outputs": [
        {
          "output_type": "execute_result",
          "data": {
            "text/plain": [
              "0.7"
            ]
          },
          "metadata": {},
          "execution_count": 50
        }
      ],
      "source": [
        "round(np.std(test_scd),2)"
      ]
    },
    {
      "cell_type": "code",
      "execution_count": 51,
      "id": "76219d40",
      "metadata": {
        "id": "76219d40"
      },
      "outputs": [],
      "source": [
        "test_lr = np.array([\n",
        "    get_longest_rhyme(song)\n",
        "    for song in test_df['lyric']\n",
        "    if isinstance(song, str) and '\\n' in song])"
      ]
    },
    {
      "cell_type": "code",
      "execution_count": 52,
      "id": "4988fc45",
      "metadata": {
        "colab": {
          "base_uri": "https://localhost:8080/"
        },
        "id": "4988fc45",
        "outputId": "1ec57851-db46-43a9-c557-965bdb163192"
      },
      "outputs": [
        {
          "output_type": "stream",
          "name": "stdout",
          "text": [
            "4.55 0.98\n"
          ]
        }
      ],
      "source": [
        "print(round(np.mean(test_lr),2), round(np.std(test_lr),2))"
      ]
    },
    {
      "cell_type": "code",
      "execution_count": 53,
      "id": "30d673f2",
      "metadata": {
        "id": "30d673f2"
      },
      "outputs": [],
      "source": [
        "test_uw = np.array([\n",
        "    get_unique_words(song)\n",
        "    for song in test_df['lyric']\n",
        "    if isinstance(song, str) and '\\n' in song])"
      ]
    },
    {
      "cell_type": "code",
      "execution_count": 54,
      "id": "8ba207c0",
      "metadata": {
        "colab": {
          "base_uri": "https://localhost:8080/"
        },
        "id": "8ba207c0",
        "outputId": "b574de15-d157-457b-c5f5-f3e32a6923f5"
      },
      "outputs": [
        {
          "output_type": "stream",
          "name": "stdout",
          "text": [
            "0.63 0.09\n"
          ]
        }
      ],
      "source": [
        "print(round(np.mean(test_uw),2), round(np.std(test_uw),2))"
      ]
    },
    {
      "cell_type": "code",
      "execution_count": 55,
      "id": "a7c76a38",
      "metadata": {
        "colab": {
          "base_uri": "https://localhost:8080/",
          "height": 632
        },
        "id": "a7c76a38",
        "outputId": "87f682d2-1c8f-4151-d53c-513c73cdeb32"
      },
      "outputs": [
        {
          "output_type": "execute_result",
          "data": {
            "text/plain": [
              "     Unnamed: 0                                    song  \\\n",
              "0             1             Godzilla (feat. Juice WRLD)   \n",
              "1             5                                 Rap God   \n",
              "2             7                             Space Bound   \n",
              "3             8  Love The Way You Lie (Part II) - Pt. 2   \n",
              "4             9    Love the Way You Lie (feat. Rihanna)   \n",
              "..          ...                                     ...   \n",
              "105         384                            ASTROTHUNDER   \n",
              "106         393   Pussy & Millions (feat. Travis Scott)   \n",
              "107         395                               CAN'T SAY   \n",
              "108         397                                  HYAENA   \n",
              "109         403      Bubbly (with Drake & Travis Scott)   \n",
              "\n",
              "                                    artist  \\\n",
              "0                  Eminem feat. Juice WRLD   \n",
              "1                                   Eminem   \n",
              "2                                   Eminem   \n",
              "3                     Rihanna feat. Eminem   \n",
              "4                     Eminem feat. Rihanna   \n",
              "..                                     ...   \n",
              "105                           Travis Scott   \n",
              "106   Drake feat. 21 Savage & Travis Scott   \n",
              "107                           Travis Scott   \n",
              "108                           Travis Scott   \n",
              "109  Young Thug feat. Drake & Travis Scott   \n",
              "\n",
              "                                                 lyric     split  \n",
              "0    (Ugh, you're a monster)\\n\\nI can swallow a bot... -0.945349  \n",
              "1    Look, I was gonna go easy on you not to hurt y... -1.382372  \n",
              "2    We touch, I feel a rush, we clutch, it isn't m... -2.836138  \n",
              "3    On the first page of our story\\nThe future see...  0.259160  \n",
              "4    Just gonna stand there and watch me burn?\\nWel...  0.758809  \n",
              "..                                                 ...       ...  \n",
              "105  Yeah\\n\\nSeem like the life I fiend\\nSeem like ...  0.056384  \n",
              "106  I been out, late night creepin', should I slid...  0.559218  \n",
              "107  No you can't say if I'm mad or not\\nSmokin' he... -0.919669  \n",
              "108  The situation we are in at this time\\nNeither ... -0.644134  \n",
              "109  Wheezy outta here\\n\\nMy career 'bout to blast ... -2.696009  \n",
              "\n",
              "[110 rows x 5 columns]"
            ],
            "text/html": [
              "\n",
              "  <div id=\"df-2567c0e7-301a-42b0-ba4a-3ad400988603\" class=\"colab-df-container\">\n",
              "    <div>\n",
              "<style scoped>\n",
              "    .dataframe tbody tr th:only-of-type {\n",
              "        vertical-align: middle;\n",
              "    }\n",
              "\n",
              "    .dataframe tbody tr th {\n",
              "        vertical-align: top;\n",
              "    }\n",
              "\n",
              "    .dataframe thead th {\n",
              "        text-align: right;\n",
              "    }\n",
              "</style>\n",
              "<table border=\"1\" class=\"dataframe\">\n",
              "  <thead>\n",
              "    <tr style=\"text-align: right;\">\n",
              "      <th></th>\n",
              "      <th>Unnamed: 0</th>\n",
              "      <th>song</th>\n",
              "      <th>artist</th>\n",
              "      <th>lyric</th>\n",
              "      <th>split</th>\n",
              "    </tr>\n",
              "  </thead>\n",
              "  <tbody>\n",
              "    <tr>\n",
              "      <th>0</th>\n",
              "      <td>1</td>\n",
              "      <td>Godzilla (feat. Juice WRLD)</td>\n",
              "      <td>Eminem feat. Juice WRLD</td>\n",
              "      <td>(Ugh, you're a monster)\\n\\nI can swallow a bot...</td>\n",
              "      <td>-0.945349</td>\n",
              "    </tr>\n",
              "    <tr>\n",
              "      <th>1</th>\n",
              "      <td>5</td>\n",
              "      <td>Rap God</td>\n",
              "      <td>Eminem</td>\n",
              "      <td>Look, I was gonna go easy on you not to hurt y...</td>\n",
              "      <td>-1.382372</td>\n",
              "    </tr>\n",
              "    <tr>\n",
              "      <th>2</th>\n",
              "      <td>7</td>\n",
              "      <td>Space Bound</td>\n",
              "      <td>Eminem</td>\n",
              "      <td>We touch, I feel a rush, we clutch, it isn't m...</td>\n",
              "      <td>-2.836138</td>\n",
              "    </tr>\n",
              "    <tr>\n",
              "      <th>3</th>\n",
              "      <td>8</td>\n",
              "      <td>Love The Way You Lie (Part II) - Pt. 2</td>\n",
              "      <td>Rihanna feat. Eminem</td>\n",
              "      <td>On the first page of our story\\nThe future see...</td>\n",
              "      <td>0.259160</td>\n",
              "    </tr>\n",
              "    <tr>\n",
              "      <th>4</th>\n",
              "      <td>9</td>\n",
              "      <td>Love the Way You Lie (feat. Rihanna)</td>\n",
              "      <td>Eminem feat. Rihanna</td>\n",
              "      <td>Just gonna stand there and watch me burn?\\nWel...</td>\n",
              "      <td>0.758809</td>\n",
              "    </tr>\n",
              "    <tr>\n",
              "      <th>...</th>\n",
              "      <td>...</td>\n",
              "      <td>...</td>\n",
              "      <td>...</td>\n",
              "      <td>...</td>\n",
              "      <td>...</td>\n",
              "    </tr>\n",
              "    <tr>\n",
              "      <th>105</th>\n",
              "      <td>384</td>\n",
              "      <td>ASTROTHUNDER</td>\n",
              "      <td>Travis Scott</td>\n",
              "      <td>Yeah\\n\\nSeem like the life I fiend\\nSeem like ...</td>\n",
              "      <td>0.056384</td>\n",
              "    </tr>\n",
              "    <tr>\n",
              "      <th>106</th>\n",
              "      <td>393</td>\n",
              "      <td>Pussy &amp; Millions (feat. Travis Scott)</td>\n",
              "      <td>Drake feat. 21 Savage &amp; Travis Scott</td>\n",
              "      <td>I been out, late night creepin', should I slid...</td>\n",
              "      <td>0.559218</td>\n",
              "    </tr>\n",
              "    <tr>\n",
              "      <th>107</th>\n",
              "      <td>395</td>\n",
              "      <td>CAN'T SAY</td>\n",
              "      <td>Travis Scott</td>\n",
              "      <td>No you can't say if I'm mad or not\\nSmokin' he...</td>\n",
              "      <td>-0.919669</td>\n",
              "    </tr>\n",
              "    <tr>\n",
              "      <th>108</th>\n",
              "      <td>397</td>\n",
              "      <td>HYAENA</td>\n",
              "      <td>Travis Scott</td>\n",
              "      <td>The situation we are in at this time\\nNeither ...</td>\n",
              "      <td>-0.644134</td>\n",
              "    </tr>\n",
              "    <tr>\n",
              "      <th>109</th>\n",
              "      <td>403</td>\n",
              "      <td>Bubbly (with Drake &amp; Travis Scott)</td>\n",
              "      <td>Young Thug feat. Drake &amp; Travis Scott</td>\n",
              "      <td>Wheezy outta here\\n\\nMy career 'bout to blast ...</td>\n",
              "      <td>-2.696009</td>\n",
              "    </tr>\n",
              "  </tbody>\n",
              "</table>\n",
              "<p>110 rows × 5 columns</p>\n",
              "</div>\n",
              "    <div class=\"colab-df-buttons\">\n",
              "\n",
              "  <div class=\"colab-df-container\">\n",
              "    <button class=\"colab-df-convert\" onclick=\"convertToInteractive('df-2567c0e7-301a-42b0-ba4a-3ad400988603')\"\n",
              "            title=\"Convert this dataframe to an interactive table.\"\n",
              "            style=\"display:none;\">\n",
              "\n",
              "  <svg xmlns=\"http://www.w3.org/2000/svg\" height=\"24px\" viewBox=\"0 -960 960 960\">\n",
              "    <path d=\"M120-120v-720h720v720H120Zm60-500h600v-160H180v160Zm220 220h160v-160H400v160Zm0 220h160v-160H400v160ZM180-400h160v-160H180v160Zm440 0h160v-160H620v160ZM180-180h160v-160H180v160Zm440 0h160v-160H620v160Z\"/>\n",
              "  </svg>\n",
              "    </button>\n",
              "\n",
              "  <style>\n",
              "    .colab-df-container {\n",
              "      display:flex;\n",
              "      gap: 12px;\n",
              "    }\n",
              "\n",
              "    .colab-df-convert {\n",
              "      background-color: #E8F0FE;\n",
              "      border: none;\n",
              "      border-radius: 50%;\n",
              "      cursor: pointer;\n",
              "      display: none;\n",
              "      fill: #1967D2;\n",
              "      height: 32px;\n",
              "      padding: 0 0 0 0;\n",
              "      width: 32px;\n",
              "    }\n",
              "\n",
              "    .colab-df-convert:hover {\n",
              "      background-color: #E2EBFA;\n",
              "      box-shadow: 0px 1px 2px rgba(60, 64, 67, 0.3), 0px 1px 3px 1px rgba(60, 64, 67, 0.15);\n",
              "      fill: #174EA6;\n",
              "    }\n",
              "\n",
              "    .colab-df-buttons div {\n",
              "      margin-bottom: 4px;\n",
              "    }\n",
              "\n",
              "    [theme=dark] .colab-df-convert {\n",
              "      background-color: #3B4455;\n",
              "      fill: #D2E3FC;\n",
              "    }\n",
              "\n",
              "    [theme=dark] .colab-df-convert:hover {\n",
              "      background-color: #434B5C;\n",
              "      box-shadow: 0px 1px 3px 1px rgba(0, 0, 0, 0.15);\n",
              "      filter: drop-shadow(0px 1px 2px rgba(0, 0, 0, 0.3));\n",
              "      fill: #FFFFFF;\n",
              "    }\n",
              "  </style>\n",
              "\n",
              "    <script>\n",
              "      const buttonEl =\n",
              "        document.querySelector('#df-2567c0e7-301a-42b0-ba4a-3ad400988603 button.colab-df-convert');\n",
              "      buttonEl.style.display =\n",
              "        google.colab.kernel.accessAllowed ? 'block' : 'none';\n",
              "\n",
              "      async function convertToInteractive(key) {\n",
              "        const element = document.querySelector('#df-2567c0e7-301a-42b0-ba4a-3ad400988603');\n",
              "        const dataTable =\n",
              "          await google.colab.kernel.invokeFunction('convertToInteractive',\n",
              "                                                    [key], {});\n",
              "        if (!dataTable) return;\n",
              "\n",
              "        const docLinkHtml = 'Like what you see? Visit the ' +\n",
              "          '<a target=\"_blank\" href=https://colab.research.google.com/notebooks/data_table.ipynb>data table notebook</a>'\n",
              "          + ' to learn more about interactive tables.';\n",
              "        element.innerHTML = '';\n",
              "        dataTable['output_type'] = 'display_data';\n",
              "        await google.colab.output.renderOutput(dataTable, element);\n",
              "        const docLink = document.createElement('div');\n",
              "        docLink.innerHTML = docLinkHtml;\n",
              "        element.appendChild(docLink);\n",
              "      }\n",
              "    </script>\n",
              "  </div>\n",
              "\n",
              "\n",
              "<div id=\"df-0089897d-2d78-491b-8b2d-dd25c33028cf\">\n",
              "  <button class=\"colab-df-quickchart\" onclick=\"quickchart('df-0089897d-2d78-491b-8b2d-dd25c33028cf')\"\n",
              "            title=\"Suggest charts\"\n",
              "            style=\"display:none;\">\n",
              "\n",
              "<svg xmlns=\"http://www.w3.org/2000/svg\" height=\"24px\"viewBox=\"0 0 24 24\"\n",
              "     width=\"24px\">\n",
              "    <g>\n",
              "        <path d=\"M19 3H5c-1.1 0-2 .9-2 2v14c0 1.1.9 2 2 2h14c1.1 0 2-.9 2-2V5c0-1.1-.9-2-2-2zM9 17H7v-7h2v7zm4 0h-2V7h2v10zm4 0h-2v-4h2v4z\"/>\n",
              "    </g>\n",
              "</svg>\n",
              "  </button>\n",
              "\n",
              "<style>\n",
              "  .colab-df-quickchart {\n",
              "      --bg-color: #E8F0FE;\n",
              "      --fill-color: #1967D2;\n",
              "      --hover-bg-color: #E2EBFA;\n",
              "      --hover-fill-color: #174EA6;\n",
              "      --disabled-fill-color: #AAA;\n",
              "      --disabled-bg-color: #DDD;\n",
              "  }\n",
              "\n",
              "  [theme=dark] .colab-df-quickchart {\n",
              "      --bg-color: #3B4455;\n",
              "      --fill-color: #D2E3FC;\n",
              "      --hover-bg-color: #434B5C;\n",
              "      --hover-fill-color: #FFFFFF;\n",
              "      --disabled-bg-color: #3B4455;\n",
              "      --disabled-fill-color: #666;\n",
              "  }\n",
              "\n",
              "  .colab-df-quickchart {\n",
              "    background-color: var(--bg-color);\n",
              "    border: none;\n",
              "    border-radius: 50%;\n",
              "    cursor: pointer;\n",
              "    display: none;\n",
              "    fill: var(--fill-color);\n",
              "    height: 32px;\n",
              "    padding: 0;\n",
              "    width: 32px;\n",
              "  }\n",
              "\n",
              "  .colab-df-quickchart:hover {\n",
              "    background-color: var(--hover-bg-color);\n",
              "    box-shadow: 0 1px 2px rgba(60, 64, 67, 0.3), 0 1px 3px 1px rgba(60, 64, 67, 0.15);\n",
              "    fill: var(--button-hover-fill-color);\n",
              "  }\n",
              "\n",
              "  .colab-df-quickchart-complete:disabled,\n",
              "  .colab-df-quickchart-complete:disabled:hover {\n",
              "    background-color: var(--disabled-bg-color);\n",
              "    fill: var(--disabled-fill-color);\n",
              "    box-shadow: none;\n",
              "  }\n",
              "\n",
              "  .colab-df-spinner {\n",
              "    border: 2px solid var(--fill-color);\n",
              "    border-color: transparent;\n",
              "    border-bottom-color: var(--fill-color);\n",
              "    animation:\n",
              "      spin 1s steps(1) infinite;\n",
              "  }\n",
              "\n",
              "  @keyframes spin {\n",
              "    0% {\n",
              "      border-color: transparent;\n",
              "      border-bottom-color: var(--fill-color);\n",
              "      border-left-color: var(--fill-color);\n",
              "    }\n",
              "    20% {\n",
              "      border-color: transparent;\n",
              "      border-left-color: var(--fill-color);\n",
              "      border-top-color: var(--fill-color);\n",
              "    }\n",
              "    30% {\n",
              "      border-color: transparent;\n",
              "      border-left-color: var(--fill-color);\n",
              "      border-top-color: var(--fill-color);\n",
              "      border-right-color: var(--fill-color);\n",
              "    }\n",
              "    40% {\n",
              "      border-color: transparent;\n",
              "      border-right-color: var(--fill-color);\n",
              "      border-top-color: var(--fill-color);\n",
              "    }\n",
              "    60% {\n",
              "      border-color: transparent;\n",
              "      border-right-color: var(--fill-color);\n",
              "    }\n",
              "    80% {\n",
              "      border-color: transparent;\n",
              "      border-right-color: var(--fill-color);\n",
              "      border-bottom-color: var(--fill-color);\n",
              "    }\n",
              "    90% {\n",
              "      border-color: transparent;\n",
              "      border-bottom-color: var(--fill-color);\n",
              "    }\n",
              "  }\n",
              "</style>\n",
              "\n",
              "  <script>\n",
              "    async function quickchart(key) {\n",
              "      const quickchartButtonEl =\n",
              "        document.querySelector('#' + key + ' button');\n",
              "      quickchartButtonEl.disabled = true;  // To prevent multiple clicks.\n",
              "      quickchartButtonEl.classList.add('colab-df-spinner');\n",
              "      try {\n",
              "        const charts = await google.colab.kernel.invokeFunction(\n",
              "            'suggestCharts', [key], {});\n",
              "      } catch (error) {\n",
              "        console.error('Error during call to suggestCharts:', error);\n",
              "      }\n",
              "      quickchartButtonEl.classList.remove('colab-df-spinner');\n",
              "      quickchartButtonEl.classList.add('colab-df-quickchart-complete');\n",
              "    }\n",
              "    (() => {\n",
              "      let quickchartButtonEl =\n",
              "        document.querySelector('#df-0089897d-2d78-491b-8b2d-dd25c33028cf button');\n",
              "      quickchartButtonEl.style.display =\n",
              "        google.colab.kernel.accessAllowed ? 'block' : 'none';\n",
              "    })();\n",
              "  </script>\n",
              "</div>\n",
              "\n",
              "  <div id=\"id_5d6dd805-e5b1-4565-8f3d-170256777ebc\">\n",
              "    <style>\n",
              "      .colab-df-generate {\n",
              "        background-color: #E8F0FE;\n",
              "        border: none;\n",
              "        border-radius: 50%;\n",
              "        cursor: pointer;\n",
              "        display: none;\n",
              "        fill: #1967D2;\n",
              "        height: 32px;\n",
              "        padding: 0 0 0 0;\n",
              "        width: 32px;\n",
              "      }\n",
              "\n",
              "      .colab-df-generate:hover {\n",
              "        background-color: #E2EBFA;\n",
              "        box-shadow: 0px 1px 2px rgba(60, 64, 67, 0.3), 0px 1px 3px 1px rgba(60, 64, 67, 0.15);\n",
              "        fill: #174EA6;\n",
              "      }\n",
              "\n",
              "      [theme=dark] .colab-df-generate {\n",
              "        background-color: #3B4455;\n",
              "        fill: #D2E3FC;\n",
              "      }\n",
              "\n",
              "      [theme=dark] .colab-df-generate:hover {\n",
              "        background-color: #434B5C;\n",
              "        box-shadow: 0px 1px 3px 1px rgba(0, 0, 0, 0.15);\n",
              "        filter: drop-shadow(0px 1px 2px rgba(0, 0, 0, 0.3));\n",
              "        fill: #FFFFFF;\n",
              "      }\n",
              "    </style>\n",
              "    <button class=\"colab-df-generate\" onclick=\"generateWithVariable('test_df')\"\n",
              "            title=\"Generate code using this dataframe.\"\n",
              "            style=\"display:none;\">\n",
              "\n",
              "  <svg xmlns=\"http://www.w3.org/2000/svg\" height=\"24px\"viewBox=\"0 0 24 24\"\n",
              "       width=\"24px\">\n",
              "    <path d=\"M7,19H8.4L18.45,9,17,7.55,7,17.6ZM5,21V16.75L18.45,3.32a2,2,0,0,1,2.83,0l1.4,1.43a1.91,1.91,0,0,1,.58,1.4,1.91,1.91,0,0,1-.58,1.4L9.25,21ZM18.45,9,17,7.55Zm-12,3A5.31,5.31,0,0,0,4.9,8.1,5.31,5.31,0,0,0,1,6.5,5.31,5.31,0,0,0,4.9,4.9,5.31,5.31,0,0,0,6.5,1,5.31,5.31,0,0,0,8.1,4.9,5.31,5.31,0,0,0,12,6.5,5.46,5.46,0,0,0,6.5,12Z\"/>\n",
              "  </svg>\n",
              "    </button>\n",
              "    <script>\n",
              "      (() => {\n",
              "      const buttonEl =\n",
              "        document.querySelector('#id_5d6dd805-e5b1-4565-8f3d-170256777ebc button.colab-df-generate');\n",
              "      buttonEl.style.display =\n",
              "        google.colab.kernel.accessAllowed ? 'block' : 'none';\n",
              "\n",
              "      buttonEl.onclick = () => {\n",
              "        google.colab.notebook.generateWithVariable('test_df');\n",
              "      }\n",
              "      })();\n",
              "    </script>\n",
              "  </div>\n",
              "\n",
              "    </div>\n",
              "  </div>\n"
            ],
            "application/vnd.google.colaboratory.intrinsic+json": {
              "type": "dataframe",
              "variable_name": "test_df",
              "summary": "{\n  \"name\": \"test_df\",\n  \"rows\": 110,\n  \"fields\": [\n    {\n      \"column\": \"Unnamed: 0\",\n      \"properties\": {\n        \"dtype\": \"number\",\n        \"std\": 113,\n        \"min\": 1,\n        \"max\": 403,\n        \"num_unique_values\": 110,\n        \"samples\": [\n          278,\n          43,\n          9\n        ],\n        \"semantic_type\": \"\",\n        \"description\": \"\"\n      }\n    },\n    {\n      \"column\": \"song\",\n      \"properties\": {\n        \"dtype\": \"string\",\n        \"num_unique_values\": 104,\n        \"samples\": [\n          \"Sex with Me\",\n          \"I Can't Save You (Interlude) [with Future & feat. Don Toliver]\",\n          \"Young Metro\"\n        ],\n        \"semantic_type\": \"\",\n        \"description\": \"\"\n      }\n    },\n    {\n      \"column\": \"artist\",\n      \"properties\": {\n        \"dtype\": \"string\",\n        \"num_unique_values\": 76,\n        \"samples\": [\n          \"Eminem feat. Sia\",\n          \"Future feat. Metro Boomin & Kendrick Lamar\",\n          \"Pop Smoke feat. Future\"\n        ],\n        \"semantic_type\": \"\",\n        \"description\": \"\"\n      }\n    },\n    {\n      \"column\": \"lyric\",\n      \"properties\": {\n        \"dtype\": \"string\",\n        \"num_unique_values\": 107,\n        \"samples\": [\n          \"Yeah\\n\\nYeah, I'm out that Brooklyn, now I'm down in Tribeca\\nRight next to De Niro, but I'll be hood forever\\nI'm the new Sinatra, and since I made it here\\nI can make it anywhere, yeah, they love me everywhere\\n\\nI used to cop in Harlem, hola, my Dominicanos (dimelo!)\\nRight there up on Broadway, brought me back to that McDonald's\\nTook it to my stash spot, 560 State Street\\nCatch me in the kitchen like the Simmons whippin' pastry\\n\\nCruising down 8th Street, off-white Lexus\\nDriving so slow but BK is from Texas\\nMe? I'm out that Bed-Stuy, home of that boy Biggie\\nNow I live on Billboard and I brought my boys with me\\n\\nSay what up to Ty Ty, still sippin' Mai Tais\\nSittin' courtside Knicks and Nets give me high fives\\nNigga, I be spiked out, I could trip a referee\\nTell by my attitude that I most definitely from\\n\\nIn New York\\nConcrete jungle where dreams are made of\\nThere's nothing you can't do\\nNow you're in New York\\nThese streets will make you feel brand new\\nBig lights will inspire you\\nLet's hear it for New York, New York, New York\\n\\nCatch me at the X with OG at a Yankee game\\nShit, I made the Yankee hat more famous than a Yankee can\\nYou should know I bleed blue, but I ain't a Crip though\\nBut I got a gang of niggas walkin' with my clique though\\n...\",\n          \"Uh\\n\\nShawty go jogging every morning (every morning)\\nAnd she make me breakfast almost every morning (every morning)\\nAnd she take a naked pic' before she leave the door\\nI be waking up to pics before a n- yawning\\n\\nAnd every weekend, my shawty comin' over (over)\\nShawty could Fendi out but she like Fashion Nova (Nova)\\nShe ain't driving no Camry, she pullin' in a Rover (Rover)\\nWith her hair so curly, I love you, baby\\n\\nShe said, \\\"What you know 'bout love?\\\" (I'll tell you everything)\\nI got what you need (oh)\\nWalk up in the store and get what you want (go get it)\\nYou get what you please\\nWe 'bout to get it on, take off them drawers (said I love you, baby)\\n...\",\n          \"Just gonna stand there and watch me burn?\\nWell, that's alright because I like the way it hurts\\nJust gonna stand there and hear me cry?\\nWell, that's alright because I love the way you lie\\nI love the way you lie\\n\\nI can't tell you what it really is\\nI can only tell you what it feels like\\nAnd right now, there's a steel knife in my windpipe\\nI can't breathe, but I still fight while I can fight\\nAs long as the wrong feels right, it's like I'm in flight\\nHigh off her love, drunk from her hate\\nIt's like I'm huffin' paint, and I love her the more I suffer, I suffocate\\nAnd right before I'm about to drown, she resuscitates me\\nShe f- hates me, and I love it\\n\\n\\\"Wait! Where you going?\\\" \\\"I'm leaving you\\\"\\n\\\"No, you ain't, come back\\\"\\nWe're running right back, here we go again\\nIt's so insane 'cause when it's going good, it's going great\\nI'm Superman with the wind at his back, she's Lois Lane\\nBut when it's bad, it's awful\\nI feel so ashamed, I snapped, \\\"Who's that dude?\\\"\\nI don't even know his name\\nI laid hands on her, I'll never stoop so low again\\nI guess I don't know my own strength\\n\\nJust gonna stand there and watch me burn?\\nWell, that's alright because I like the way it hurts\\nJust gonna stand there and hear me cry?\\n...\"\n        ],\n        \"semantic_type\": \"\",\n        \"description\": \"\"\n      }\n    },\n    {\n      \"column\": \"split\",\n      \"properties\": {\n        \"dtype\": \"number\",\n        \"std\": 0.9553356969640422,\n        \"min\": -2.8361380527159485,\n        \"max\": 2.2800981796551656,\n        \"num_unique_values\": 110,\n        \"samples\": [\n          -0.2842459243364221,\n          -0.4074106049736416,\n          0.7588092986130246\n        ],\n        \"semantic_type\": \"\",\n        \"description\": \"\"\n      }\n    }\n  ]\n}"
            }
          },
          "metadata": {},
          "execution_count": 55
        }
      ],
      "source": [
        "test_df"
      ]
    },
    {
      "cell_type": "markdown",
      "id": "d6e5c2fd",
      "metadata": {
        "id": "d6e5c2fd"
      },
      "source": [
        "## Qualitative evaluation"
      ]
    },
    {
      "cell_type": "code",
      "execution_count": 56,
      "id": "d00f00bf",
      "metadata": {
        "colab": {
          "base_uri": "https://localhost:8080/"
        },
        "id": "d00f00bf",
        "outputId": "3eb3789a-f936-40ef-a905-f4cde470d1db"
      },
      "outputs": [
        {
          "output_type": "stream",
          "name": "stdout",
          "text": [
            "Thug niggas , a whole disc and\n",
            "Nigga , my nigga said this\n",
            "Now , girl , hey Nicki , hey ( yeah , yeah , yeah , yeah , yeah , yeah\n",
            "\n",
            " Y , baby\n",
            "\n",
            " She no Juliet for no good reason\n",
            "Cause I know I 'm the man , looking for a nigga down with the movement , when they bang this in the coat\n",
            "Anything to have a dog , call me a paper towel , gim me head\n",
            "I 'm up in a drop-top , she know\n"
          ]
        }
      ],
      "source": [
        "print(re.sub(r'[ ]+\\n[ ]+', r'\\n', ' '.join(lm.generate(100, text_seed=['cut', 'the', 'music', 'up', '\\n']))))"
      ]
    },
    {
      "cell_type": "code",
      "execution_count": 57,
      "id": "e62d73f3",
      "metadata": {
        "colab": {
          "base_uri": "https://localhost:8080/"
        },
        "id": "e62d73f3",
        "outputId": "ddc4613f-6219-4c6e-8076-b0bb67c84fb1"
      },
      "outputs": [
        {
          "output_type": "stream",
          "name": "stdout",
          "text": [
            "... </s> </s> </s> </s> </s> </s> </s> </s> </s> </s> </s> </s> </s> </s> </s> </s> </s> </s> </s> </s> </s> </s> </s> </s> </s> </s> </s> </s> </s> </s> </s> </s> </s> </s> </s> </s> </s> </s> </s> </s> </s> </s> </s> </s> </s> </s> </s> </s> </s> </s> </s> </s> </s> </s> </s> </s> </s> </s> </s> </s> </s> </s> </s> </s> </s> </s> </s> </s> </s> </s> </s> </s> </s> </s> </s> </s> </s> </s> </s> </s> </s> </s> </s> </s> </s> </s> </s> </s> </s> </s> </s> </s> </s> </s> </s> </s> </s> </s> </s>\n"
          ]
        }
      ],
      "source": [
        "print(re.sub(r'[ ]+\\n[ ]+', r'\\n', ' '.join(lm.generate(100, text_seed=['godfather', 'in', 'the', 'house', '\\n']))))"
      ]
    },
    {
      "cell_type": "code",
      "execution_count": 58,
      "id": "4ab0a083",
      "metadata": {
        "colab": {
          "base_uri": "https://localhost:8080/"
        },
        "id": "4ab0a083",
        "outputId": "32c1c197-b59d-4b3c-d07e-49b878882cda"
      },
      "outputs": [
        {
          "output_type": "execute_result",
          "data": {
            "text/plain": [
              "['(', 'Ugh', ',', 'you', \"'re\", 'a', 'monster', ')', '\\n']"
            ]
          },
          "metadata": {},
          "execution_count": 58
        }
      ],
      "source": [
        "first_lines[0]"
      ]
    },
    {
      "cell_type": "code",
      "execution_count": 63,
      "id": "0b922aa3",
      "metadata": {
        "scrolled": false,
        "colab": {
          "base_uri": "https://localhost:8080/",
          "height": 233
        },
        "id": "0b922aa3",
        "outputId": "854f51ff-dc17-42fd-da0d-dbb578f9fbb9"
      },
      "outputs": [
        {
          "output_type": "error",
          "ename": "NameError",
          "evalue": "name 'seed' is not defined",
          "traceback": [
            "\u001b[0;31m---------------------------------------------------------------------------\u001b[0m",
            "\u001b[0;31mNameError\u001b[0m                                 Traceback (most recent call last)",
            "\u001b[0;32m<ipython-input-63-e21af97a3a8a>\u001b[0m in \u001b[0;36m<cell line: 1>\u001b[0;34m()\u001b[0m\n\u001b[1;32m      1\u001b[0m \u001b[0;32mfor\u001b[0m \u001b[0mi\u001b[0m \u001b[0;32min\u001b[0m \u001b[0mrange\u001b[0m\u001b[0;34m(\u001b[0m\u001b[0;36m10\u001b[0m\u001b[0;34m)\u001b[0m\u001b[0;34m:\u001b[0m\u001b[0;34m\u001b[0m\u001b[0;34m\u001b[0m\u001b[0m\n\u001b[0;32m----> 2\u001b[0;31m     \u001b[0mprint\u001b[0m\u001b[0;34m(\u001b[0m\u001b[0;34mf'### Sample number {seed+1} ###'\u001b[0m\u001b[0;34m)\u001b[0m\u001b[0;34m\u001b[0m\u001b[0;34m\u001b[0m\u001b[0m\n\u001b[0m\u001b[1;32m      3\u001b[0m     \u001b[0mprint\u001b[0m\u001b[0;34m(\u001b[0m\u001b[0;34m' '\u001b[0m\u001b[0;34m.\u001b[0m\u001b[0mjoin\u001b[0m\u001b[0;34m(\u001b[0m\u001b[0mfirst_lines\u001b[0m\u001b[0;34m[\u001b[0m\u001b[0mi\u001b[0m\u001b[0;34m]\u001b[0m\u001b[0;34m)\u001b[0m\u001b[0;34m[\u001b[0m\u001b[0;34m:\u001b[0m\u001b[0;34m-\u001b[0m\u001b[0;36m2\u001b[0m\u001b[0;34m]\u001b[0m\u001b[0;34m)\u001b[0m\u001b[0;34m\u001b[0m\u001b[0;34m\u001b[0m\u001b[0m\n\u001b[1;32m      4\u001b[0m     \u001b[0mprint\u001b[0m\u001b[0;34m(\u001b[0m\u001b[0mre\u001b[0m\u001b[0;34m.\u001b[0m\u001b[0msub\u001b[0m\u001b[0;34m(\u001b[0m\u001b[0;34mr'[ ]+\\n[ ]+'\u001b[0m\u001b[0;34m,\u001b[0m \u001b[0;34mr'\\n'\u001b[0m\u001b[0;34m,\u001b[0m \u001b[0;34m' '\u001b[0m\u001b[0;34m.\u001b[0m\u001b[0mjoin\u001b[0m\u001b[0;34m(\u001b[0m\u001b[0mlm\u001b[0m\u001b[0;34m.\u001b[0m\u001b[0mgenerate\u001b[0m\u001b[0;34m(\u001b[0m\u001b[0;36m100\u001b[0m\u001b[0;34m,\u001b[0m \u001b[0mtext_seed\u001b[0m\u001b[0;34m=\u001b[0m\u001b[0mfirst_lines\u001b[0m\u001b[0;34m[\u001b[0m\u001b[0mi\u001b[0m\u001b[0;34m]\u001b[0m\u001b[0;34m)\u001b[0m\u001b[0;34m)\u001b[0m\u001b[0;34m)\u001b[0m\u001b[0;34m)\u001b[0m\u001b[0;34m\u001b[0m\u001b[0;34m\u001b[0m\u001b[0m\n\u001b[1;32m      5\u001b[0m     \u001b[0mprint\u001b[0m\u001b[0;34m(\u001b[0m\u001b[0;34m)\u001b[0m\u001b[0;34m\u001b[0m\u001b[0;34m\u001b[0m\u001b[0m\n",
            "\u001b[0;31mNameError\u001b[0m: name 'seed' is not defined"
          ]
        }
      ],
      "source": [
        "for i in range(10):\n",
        "    print(f'### Sample number {seed+1} ###')\n",
        "    print(' '.join(first_lines[i])[:-2])\n",
        "    print(re.sub(r'[ ]+\\n[ ]+', r'\\n', ' '.join(lm.generate(100, text_seed=first_lines[i]))))\n",
        "    print()"
      ]
    }
  ],
  "metadata": {
    "kernelspec": {
      "display_name": "Python 3",
      "name": "python3"
    },
    "language_info": {
      "codemirror_mode": {
        "name": "ipython",
        "version": 3
      },
      "file_extension": ".py",
      "mimetype": "text/x-python",
      "name": "python",
      "nbconvert_exporter": "python",
      "pygments_lexer": "ipython3",
      "version": "3.9.16"
    },
    "colab": {
      "provenance": [],
      "gpuType": "T4"
    },
    "accelerator": "GPU"
  },
  "nbformat": 4,
  "nbformat_minor": 5
}